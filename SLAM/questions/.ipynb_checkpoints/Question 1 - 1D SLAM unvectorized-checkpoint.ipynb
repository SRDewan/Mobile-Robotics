{
 "cells": [
  {
   "cell_type": "markdown",
   "id": "8c8b3566",
   "metadata": {},
   "source": [
    "# Question 1:  Pose Graph Optimization for 1D SLAM"
   ]
  },
  {
   "cell_type": "markdown",
   "id": "97b6672f",
   "metadata": {},
   "source": [
    "A solved example for 1D SLAM which optimizes for pose variables using weighted least squares method (Gauss Newton) has been explained in the class. You can view it at `examples/1D-SLAM.ipynb`. Your first task is to code this from scratch.\n",
    "\n",
    "For this section, you have to calculate Jacobian analytically yourself and use it. However, you can check how correct it is using `jax`'s `jacobian`. Its usage is explained in the supplementary notebook (`examples/`)."
   ]
  },
  {
   "cell_type": "markdown",
   "id": "dd31fad9",
   "metadata": {},
   "source": [
    "## How to get started?\n",
    "\n",
    "1. Go through the example and understand the optimization procedure.\n",
    "2. Generate the data as in the example.\n",
    "3. Write the derivatives of the function with respect to the constraints\n",
    "4. Create the final jacobian and write the update steps using Gauss Newton\n",
    "\n",
    "This tiny example will help make sense of the next question, as it's largely just an extension of this."
   ]
  },
  {
   "cell_type": "markdown",
   "id": "e6f419d4",
   "metadata": {},
   "source": [
    "Finally, plot the loop closure constraint, poses, and error at every iteration as well. Since this is a one dimensional example, you can just assume x = y."
   ]
  },
  {
   "cell_type": "code",
   "execution_count": 9,
   "id": "d450d532",
   "metadata": {},
   "outputs": [],
   "source": [
    "import os\n",
    "import math\n",
    "import numpy as np\n",
    "import matplotlib.pyplot as plt"
   ]
  },
  {
   "cell_type": "markdown",
   "id": "3c47a6ce",
   "metadata": {},
   "source": [
    "# 1.2"
   ]
  },
  {
   "cell_type": "code",
   "execution_count": 2,
   "id": "142a61ad",
   "metadata": {},
   "outputs": [],
   "source": [
    "# input constraints\n",
    "Ui = [1.1, 1.0, 1.1, -2.7]\n",
    "Uij = [0.0]\n",
    "loop_nodes = [(0, 4)]\n",
    "\n",
    "# covariance values\n",
    "cov_i = [0.01] * len(Ui)\n",
    "cov_ij = [0.01] * len(Uij)\n",
    "cov = [*cov_i, *cov_ij, 0.001]\n",
    "sigma = np.diag(cov)\n",
    "omega = np.linalg.inv(sigma)"
   ]
  },
  {
   "cell_type": "markdown",
   "id": "44a40c21",
   "metadata": {},
   "source": [
    "# 1.3\n",
    "\n",
    "Refer PDF [q1_3.pdf](q1_3.pdf)"
   ]
  },
  {
   "cell_type": "markdown",
   "id": "c297b42c",
   "metadata": {},
   "source": [
    "# 1.4"
   ]
  },
  {
   "cell_type": "code",
   "execution_count": 3,
   "id": "04537631",
   "metadata": {},
   "outputs": [],
   "source": [
    "# 1D motion model\n",
    "# f(xi, ui) = xi + ui\n",
    "# f(xi, uij) = xi + uij\n",
    "def motionModel(x_i, u_i):\n",
    "    return x_i + u_i\n",
    "\n",
    "# eij = f(xi, uij) - xj\n",
    "def error(x_i, u_ij, x_j):\n",
    "    return motionModel(x_i, u_ij) - x_j"
   ]
  },
  {
   "cell_type": "code",
   "execution_count": 4,
   "id": "728fcd46",
   "metadata": {},
   "outputs": [],
   "source": [
    "# use odometry contraints to find x_init\n",
    "# X is a column vector\n",
    "def getInitialPosesFromOdometry(Ui):\n",
    "    X = [0.0]\n",
    "    for u_i in Ui:\n",
    "        X.append(motionModel(X[-1], u_i))\n",
    "    return np.array([X]).T"
   ]
  },
  {
   "cell_type": "code",
   "execution_count": 5,
   "id": "0c30d871",
   "metadata": {},
   "outputs": [],
   "source": [
    "# find objective function f(x)\n",
    "# f is a column vector\n",
    "def findObjectiveFunction(X, Ui, Uij, loop_nodes):\n",
    "    f = []\n",
    "    # odometry constraints\n",
    "    for i in range(len(Ui)):\n",
    "        f.append(error(X[i][0], Ui[i], X[i+1][0]))\n",
    "    # loop closure constraints\n",
    "    for (i, j), u_ij in zip(loop_nodes, Uij):\n",
    "        f.append(error(X[i][0], u_ij, X[j][0]))\n",
    "    # anchoring x0 to origin\n",
    "    f.append(X[0][0])\n",
    "    \n",
    "    return np.array([f]).T"
   ]
  },
  {
   "cell_type": "code",
   "execution_count": 6,
   "id": "0236d438",
   "metadata": {},
   "outputs": [],
   "source": [
    "# find jacobian of f(x)\n",
    "def findJacobian(f):\n",
    "    J = np.array([[1, -1, 0, 0, 0], \n",
    "                  [0, 1, -1, 0, 0], \n",
    "                  [0, 0, 1, -1, 0], \n",
    "                  [0, 0, 0, 1, -1], \n",
    "                  [1, 0, 0, 0, -1], \n",
    "                  [1, 0, 0, 0, 0]])\n",
    "    return J"
   ]
  },
  {
   "cell_type": "code",
   "execution_count": 7,
   "id": "58112691",
   "metadata": {},
   "outputs": [],
   "source": [
    "# gauss newton formulation\n",
    "def gaussNewton(input_contraints, omega, num_iter=50):\n",
    "    Ui, Uij, loop_nodes = input_contraints\n",
    "    X = getInitialPosesFromOdometry(Ui)\n",
    "\n",
    "    for i in range(num_iter):\n",
    "        # caluclate J and f\n",
    "        f = findObjectiveFunction(X, Ui, Uij, loop_nodes)\n",
    "        J = findJacobian(f)\n",
    "\n",
    "        # calculate delta X\n",
    "        A = J.T @ omega @ J\n",
    "        B = -J.T @ omega.T @ f\n",
    "        del_X = np.linalg.inv(A) @ B\n",
    "\n",
    "        # update step\n",
    "        X += del_X\n",
    "        \n",
    "    return X"
   ]
  },
  {
   "cell_type": "code",
   "execution_count": 8,
   "id": "9f8657ca",
   "metadata": {},
   "outputs": [
    {
     "name": "stdout",
     "output_type": "stream",
     "text": [
      "Optimized X: \n",
      " [[-1.66533454e-19]\n",
      " [ 1.00000000e+00]\n",
      " [ 1.90000000e+00]\n",
      " [ 2.90000000e+00]\n",
      " [ 1.00000000e-01]]\n"
     ]
    }
   ],
   "source": [
    "# gauss newton formulation\n",
    "X = gaussNewton([Ui, Uij, loop_nodes], omega)\n",
    "print(\"Optimized X: \\n\", X)"
   ]
  },
  {
   "cell_type": "code",
   "execution_count": null,
   "id": "c74607b9",
   "metadata": {},
   "outputs": [],
   "source": []
  },
  {
   "cell_type": "code",
   "execution_count": null,
   "id": "5dbead03",
   "metadata": {},
   "outputs": [],
   "source": []
  }
 ],
 "metadata": {
  "kernelspec": {
   "display_name": "Python 3",
   "language": "python",
   "name": "python3"
  },
  "language_info": {
   "codemirror_mode": {
    "name": "ipython",
    "version": 3
   },
   "file_extension": ".py",
   "mimetype": "text/x-python",
   "name": "python",
   "nbconvert_exporter": "python",
   "pygments_lexer": "ipython3",
   "version": "3.8.8"
  }
 },
 "nbformat": 4,
 "nbformat_minor": 5
}
