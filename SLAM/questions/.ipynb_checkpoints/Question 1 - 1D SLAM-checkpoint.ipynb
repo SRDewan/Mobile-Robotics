{
 "cells": [
  {
   "cell_type": "markdown",
   "id": "920848b9",
   "metadata": {},
   "source": [
    "# Question 1:  Pose Graph Optimization for 1D SLAM"
   ]
  },
  {
   "cell_type": "markdown",
   "id": "b614d913",
   "metadata": {},
   "source": [
    "A solved example for 1D SLAM which optimizes for pose variables using weighted least squares method (Gauss Newton) has been explained in the class. You can view it at `examples/1D-SLAM.ipynb`. Your first task is to code this from scratch.\n",
    "\n",
    "For this section, you have to calculate Jacobian analytically yourself and use it. However, you can check how correct it is using `jax`'s `jacobian`. Its usage is explained in the supplementary notebook (`examples/`)."
   ]
  },
  {
   "cell_type": "markdown",
   "id": "c1e38c53",
   "metadata": {},
   "source": [
    "## How to get started?\n",
    "\n",
    "1. Go through the example and understand the optimization procedure.\n",
    "2. Generate the data as in the example.\n",
    "3. Write the derivatives of the function with respect to the constraints\n",
    "4. Create the final jacobian and write the update steps using Gauss Newton\n",
    "\n",
    "This tiny example will help make sense of the next question, as it's largely just an extension of this."
   ]
  },
  {
   "cell_type": "markdown",
   "id": "09118a4f",
   "metadata": {},
   "source": [
    "Finally, plot the loop closure constraint, poses, and error at every iteration as well. Since this is a one dimensional example, you can just assume x = y."
   ]
  },
  {
   "cell_type": "code",
   "execution_count": 1,
   "id": "0f20612a",
   "metadata": {},
   "outputs": [],
   "source": [
    "import os\n",
    "import math\n",
    "import numpy as np\n",
    "import matplotlib.pyplot as plt\n",
    "import jax.numpy as jnp\n",
    "from jax import jacfwd"
   ]
  },
  {
   "cell_type": "markdown",
   "id": "a8a43e15",
   "metadata": {},
   "source": [
    "# 1.2"
   ]
  },
  {
   "cell_type": "code",
   "execution_count": 2,
   "id": "6dc3c11f",
   "metadata": {},
   "outputs": [
    {
     "name": "stderr",
     "output_type": "stream",
     "text": [
      "WARNING:absl:No GPU/TPU found, falling back to CPU. (Set TF_CPP_MIN_LOG_LEVEL=0 and rerun for more info.)\n"
     ]
    }
   ],
   "source": [
    "# ground truth\n",
    "X_gt = jnp.array([0.0, 1.0, 2.0, 3.0, 0.0])\n",
    "\n",
    "# input constraints\n",
    "Ui = [1.1, 1.0, 1.1, -2.7]\n",
    "Uij = [0.0]\n",
    "U = jnp.array([*Ui, *Uij])\n",
    "\n",
    "# edges of pose graph\n",
    "odo_edges = [(i, i+1) for i in range(len(Ui))]\n",
    "loop_edges = [(0, 4)]\n",
    "edges = [*odo_edges, *loop_edges]\n",
    "\n",
    "# covariance values\n",
    "cov_i = [0.01] * len(Ui)\n",
    "cov_ij = [0.01] * len(Uij)\n",
    "cov = [*cov_i, *cov_ij, 0.001]\n",
    "sigma = np.diag(cov)\n",
    "omega = np.linalg.inv(sigma)\n",
    "omega = jnp.array(omega)"
   ]
  },
  {
   "cell_type": "markdown",
   "id": "e5277de9",
   "metadata": {},
   "source": [
    "# 1.3\n",
    "\n",
    "Refer PDF [q1_3.pdf](q1_3.pdf)"
   ]
  },
  {
   "cell_type": "code",
   "execution_count": 3,
   "id": "fa2f5a9a",
   "metadata": {},
   "outputs": [],
   "source": [
    "J_analytical = jnp.array([[1, -1, 0, 0, 0], \n",
    "                          [0, 1, -1, 0, 0], \n",
    "                          [0, 0, 1, -1, 0], \n",
    "                          [0, 0, 0, 1, -1],\n",
    "                          [1, 0, 0, 0, -1], \n",
    "                          [1, 0, 0, 0, 0]])"
   ]
  },
  {
   "cell_type": "markdown",
   "id": "f25584b5",
   "metadata": {},
   "source": [
    "# 1.4"
   ]
  },
  {
   "cell_type": "code",
   "execution_count": 4,
   "id": "c9d384b1",
   "metadata": {},
   "outputs": [],
   "source": [
    "# 1D motion model (vectorized)\n",
    "# f(xi, ui) = xi + ui\n",
    "# f(xi, uij) = xi + uij\n",
    "def motionModel(X, U):\n",
    "    return X + U\n",
    "\n",
    "# error function (vectorized)\n",
    "# eij = f(xi, uij) - xj\n",
    "def error(X, U, edges):\n",
    "    start_nodes, end_nodes = [jnp.array(node_list) for node_list in zip(*edges)]\n",
    "    e = motionModel(X[start_nodes], U) - X[end_nodes]\n",
    "    return e"
   ]
  },
  {
   "cell_type": "code",
   "execution_count": 5,
   "id": "56c5b185",
   "metadata": {},
   "outputs": [],
   "source": [
    "# use odometry contraints to find x_init\n",
    "def getInitialPosesFromOdometry(Ui):\n",
    "    X = [0.0]\n",
    "    for u_i in Ui:\n",
    "        X.append(motionModel(X[-1], u_i))\n",
    "    return jnp.array(X)"
   ]
  },
  {
   "cell_type": "code",
   "execution_count": 6,
   "id": "3c4b64a8",
   "metadata": {},
   "outputs": [],
   "source": [
    "# find objective function f(x)\n",
    "def findObjectiveFunction(X, U, edges):\n",
    "    # odometry and loop closure constraints\n",
    "    f = error(X, U, edges)\n",
    "    # anchor x0 to origin\n",
    "    f = jnp.hstack((f, X[0]))\n",
    "    return f"
   ]
  },
  {
   "cell_type": "code",
   "execution_count": 7,
   "id": "8632c9e5",
   "metadata": {},
   "outputs": [],
   "source": [
    "# find jacobian of f(x)\n",
    "def findJacobian(X, U, edges):\n",
    "    f = lambda X : findObjectiveFunction(X, U, edges)\n",
    "    J = jacfwd(f)\n",
    "    return J"
   ]
  },
  {
   "cell_type": "code",
   "execution_count": 8,
   "id": "acd0f882",
   "metadata": {},
   "outputs": [],
   "source": [
    "##### gauss newton formulation\n",
    "def gaussNewton(input_contraints, omega, num_iter=50):\n",
    "    X, U, edges = input_contraints    \n",
    "    J = findJacobian(X, U, edges)\n",
    "    \n",
    "    for i in range(num_iter):\n",
    "        # caluclate f(x) and J(x)\n",
    "        fx = findObjectiveFunction(X, U, edges)\n",
    "        Jx = J(X)\n",
    "        assert(jnp.linalg.norm(Jx - J_analytical, \"fro\") < 1e-5)\n",
    "        \n",
    "        # calculate delta X\n",
    "        A = Jx.T @ omega @ Jx\n",
    "        B = -Jx.T @ omega.T @ fx\n",
    "        del_X = np.linalg.inv(A) @ B\n",
    "\n",
    "        # update step\n",
    "        X += del_X\n",
    "        \n",
    "        # plot values\n",
    "        iters.append(i)\n",
    "        poses.append(X)\n",
    "        errors.append(0.5 * fx.T @ omega @ fx)\n",
    "        loop_closure_constraints.append(fx[-2])\n",
    "        \n",
    "    return X"
   ]
  },
  {
   "cell_type": "code",
   "execution_count": 9,
   "id": "1cfde5fa",
   "metadata": {},
   "outputs": [
    {
     "name": "stdout",
     "output_type": "stream",
     "text": [
      "Optimized X: \n",
      " [-3.2782535e-10  1.0000000e+00  1.9000000e+00  2.9000001e+00\n",
      "  1.0000000e-01]\n"
     ]
    }
   ],
   "source": [
    "# for plotting graphs\n",
    "iters = []\n",
    "poses = []\n",
    "errors = []\n",
    "loop_closure_constraints = []\n",
    "\n",
    "# gauss newton formulation\n",
    "X_init = getInitialPosesFromOdometry(Ui)\n",
    "X = gaussNewton([X_init, U, edges], omega)\n",
    "print(\"Optimized X: \\n\", X)"
   ]
  },
  {
   "cell_type": "code",
   "execution_count": 10,
   "id": "bc7f82a7",
   "metadata": {},
   "outputs": [
    {
     "data": {
      "image/png": "[encoded data removed]",
      "text/plain": [
       "<Figure size 432x288 with 1 Axes>"
      ]
     },
     "metadata": {
      "needs_background": "light"
     },
     "output_type": "display_data"
    }
   ],
   "source": [
    "# plot error\n",
    "plt.plot(iters, errors)\n",
    "plt.xlabel(\"Number of iterations\")\n",
    "plt.ylabel(\"Error\")\n",
    "plt.show()"
   ]
  },
  {
   "cell_type": "code",
   "execution_count": 11,
   "id": "8cc459ce",
   "metadata": {},
   "outputs": [
    {
     "data": {
      "image/png": "[encoded data removed]",
      "text/plain": [
       "<Figure size 432x288 with 1 Axes>"
      ]
     },
     "metadata": {
      "needs_background": "light"
     },
     "output_type": "display_data"
    }
   ],
   "source": [
    "# plot poses\n",
    "plt.plot(iters, poses)\n",
    "plt.xlabel(\"Number of iterations\")\n",
    "plt.ylabel(\"Pose\")\n",
    "plt.legend([f\"x{i}\" for i in range(len(X))])\n",
    "plt.show()"
   ]
  },
  {
   "cell_type": "code",
   "execution_count": 12,
   "id": "c0aff293",
   "metadata": {
    "scrolled": true
   },
   "outputs": [
    {
     "data": {
      "image/png": "[encoded data removed]",
      "text/plain": [
       "<Figure size 432x288 with 1 Axes>"
      ]
     },
     "metadata": {
      "needs_background": "light"
     },
     "output_type": "display_data"
    }
   ],
   "source": [
    "# plot loop closure contraint\n",
    "plt.plot(iters, loop_closure_constraints)\n",
    "plt.xlabel(\"Number of iterations\")\n",
    "plt.ylabel(\"Loop closure constraint\")\n",
    "plt.show()"
   ]
  },
  {
   "cell_type": "code",
   "execution_count": 13,
   "id": "5276a4b3",
   "metadata": {
    "scrolled": true
   },
   "outputs": [
    {
     "data": {
      "text/plain": [
       "<matplotlib.image.AxesImage at 0x7f22000f4a60>"
      ]
     },
     "execution_count": 13,
     "metadata": {},
     "output_type": "execute_result"
    },
    {
     "data": {
      "image/png": "[encoded data removed]",
      "text/plain": [
       "<Figure size 432x288 with 1 Axes>"
      ]
     },
     "metadata": {
      "needs_background": "light"
     },
     "output_type": "display_data"
    }
   ],
   "source": [
    "plt.imshow(J_analytical)"
   ]
  }
 ],
 "metadata": {
  "kernelspec": {
   "display_name": "Python 3",
   "language": "python",
   "name": "python3"
  },
  "language_info": {
   "codemirror_mode": {
    "name": "ipython",
    "version": 3
   },
   "file_extension": ".py",
   "mimetype": "text/x-python",
   "name": "python",
   "nbconvert_exporter": "python",
   "pygments_lexer": "ipython3",
   "version": "3.8.8"
  }
 },
 "nbformat": 4,
 "nbformat_minor": 5
}
