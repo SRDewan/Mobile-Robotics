{
 "cells": [
  {
   "cell_type": "markdown",
   "id": "5ce8b7e5",
   "metadata": {},
   "source": [
    "# Assignment 3: ICP + Non-linear least squares optimization\n",
    "\n",
    "TEAM-NAME: Whatevs\n",
    "\n",
    "YOUR-ID: 2019101017, 201901050\n",
    "\n",
    "YOUR-NAME: Shaurya Dewan, Ashwin Rao\n",
    "\n",
    "## Instructions\n",
    "\n",
    "* You are not allowed to use any external libraries (other than ones being imported below).\n",
    "* The deadline for this assignment is **15-09-21** at 11:55pm.\n",
    "* Plagiarism is **strictly prohibited**"
   ]
  },
  {
   "cell_type": "code",
   "execution_count": 1,
   "id": "4206f8f6",
   "metadata": {},
   "outputs": [
    {
     "name": "stdout",
     "output_type": "stream",
     "text": [
      "Jupyter environment detected. Enabling Open3D WebVisualizer.\n",
      "[Open3D INFO] WebRTC GUI backend enabled.\n",
      "[Open3D INFO] WebRTCWindowSystem: HTTP handshake server disabled.\n"
     ]
    }
   ],
   "source": [
    "import math\n",
    "import numpy as np\n",
    "import matplotlib.pyplot as plt\n",
    "import open3d as o3d"
   ]
  },
  {
   "cell_type": "markdown",
   "id": "e524f0d5",
   "metadata": {},
   "source": [
    "# Non Linear Least Squares Optimization"
   ]
  },
  {
   "cell_type": "markdown",
   "id": "6c05ecf2",
   "metadata": {},
   "source": [
    "## 1.1 Gradient Descent\n",
    "Implement the gradient descent algorithm using numpy and what you have learned from class to solve for the parameters of a gaussian distribution.\n",
    "To understand the task in more detail and look at a worked through example, checkout the subsequent section. You have to implement the same using just numpy functions. You can refer to [Shubodh's notes](https://www.notion.so/saishubodh/From-linear-algebra-to-non-linear-weighted-least-squares-optimization-13cf17d318be4d45bb8577c4d3ea4a02) on the same to get a better grasp of the concept before implementing it.\n",
    "* Experiment with the number of iterations.\n",
    "* Experiment with the learning rate.\n",
    "* Experiment with the tolerance.\n",
    "\n",
    "Display your results using matplotlib by plotting graphs for \n",
    "* The cost function value vs the number of iterations\n",
    "* The Ground Truth data values and the predicted data values.\n",
    "\n",
    "Your plots are expected to contain information similar to the plot below:\n",
    "\n",
    "<!-- <figure> -->\n",
    "<img src='./helpers/sample_plt.png' alt=drawing width=500 height=600>\n",
    "\n",
    "<!-- <figcaption align='center'><b>A sample plot, you can use your own plotting template</b></figcaption>\n",
    "</figure> -->\n",
    "<!-- head over to [this page](https://saishubodh.notion.site/Non-Linear-Least-Squares-Solved-example-Computing-Jacobian-for-a-Gaussian-Gradient-Descent-7fd11ebfee034f8ca89cc78c8f1d24d9) -->"
   ]
  },
  {
   "cell_type": "markdown",
   "id": "be50eb00",
   "metadata": {},
   "source": [
    "## Worked out Example using Gradient Descent\n",
    "\n",
    "A Gaussian distribution parametrized by $a,m,s$ is given by:\n",
    "\n",
    "$$ y(x;a,m,s)=a \\exp \\left(\\frac{-(x-m)^{2}}{2 s^{2}}\\right) \\tag{1}$$\n",
    "\n",
    "### Jacobian of Gaussian\n",
    "\n",
    "$$\\mathbf{J}_y=\\left[\\frac{\\partial y}{\\partial a} \\quad \\frac{\\partial y}{\\partial m} \\quad \\frac{\\partial y}{\\partial s}\\right] \\\\\n",
    "= \\left[ \\exp \\left(\\frac{-(x-m)^{2}}{2 s^{2}}\\right); \\frac{a (x-m)}{s^2} \\exp\\left(\\frac{-(x-m)^{2}}{2 s^{2}}\\right);  \\frac{a (x-m)^2}{s^3}\\exp \\left(\\frac{-(x-m)^{2}}{2 s^{2}}\\right)\\right]$$\n",
    "\n",
    "## Problem at hand\n",
    "\n",
    "> Given a set of observations $y_{obs}$ and $x_{obs}$ we want to find the optimum parameters $a,m,s$ which best fit our observations given an initial estimate.\n",
    "\n",
    "Our observations would generally be erroneous and given to us, but for the sake of knowing how good our model is performing, let us generate the observations ourselves by assuming the actual \"actual\" parameter values as $a_{gt}=10; m_{gt} =0; s_{gt} =20$ ($gt$ stands for ground truth). We will try to estimate these values based on our observations and let us see how close we get to \"actual\" parameters. Note that in reality we obviously don't have these parameters as that is exactly what we want to estimate in the first place. So let us consider the following setup, we have:\n",
    "\n",
    "- Number of observations, $num\\_obs = 50$\n",
    "- Our 50 set of observations would be\n",
    "    - $x_{obs} = np.linspace(-25,25, num\\_obs)$\n",
    "    - $y_{obs} = y(x_{obs};a_{gt},m_{gt},s_{gt})$  from $(1)$\n",
    "\n",
    "Reference:\n",
    "\n",
    "→[linspace](https://numpy.org/doc/stable/reference/generated/numpy.linspace.html)\n",
    "\n",
    "- Say we are given initial estimate as:\n",
    "\n",
    "    $$a_0=10; \\quad m_0=13; \\quad s_0=19.12$$\n",
    "\n",
    "### Residual and error to be minimized\n",
    "\n",
    "Okay, now we have set of observations and an initial estimate of parameters. We would now want to minimize an error that would give us optimum parameters.\n",
    "\n",
    "The $residual$ would be given by\n",
    "\n",
    "$$ r(a,m,s) = \\left[ a \\exp \\left(\\frac{-(x_{obs}-m)^{2}}{2 s^{2}}\\right) - y_{obs}\\ \\right]$$\n",
    "\n",
    "where we'd want to minimize $\\|r\\|^2$. Note that $r$ is a non-linear function in $(a,m,s)$.\n",
    "\n",
    "Also, note that since $y$ (and $x$) are observations in the above equation, after simplification, we get $\\mathbf{J}_r = \\mathbf{J}_y$ [above](https://www.notion.so/c9e6f71b67a44bb8b366df2fccfc12d0) (since $y_{obs}$ is a constant).\n",
    "\n",
    "Let us apply Gradient Descent method for minimization here. From [Table I](https://www.notion.so/From-linear-algebra-to-non-linear-weighted-least-squares-optimization-13cf17d318be4d45bb8577c4d3ea4a02),  \n",
    "\n",
    "$$\\Delta \\mathbf{k} = - \\alpha \\mathbf{J_F} = -\\alpha \\mathbf{J}_r^{\\top} {r}(\\mathbf{k})$$\n",
    "\n",
    "Note that $\\mathbf{J_F}$ is the Jacobian of \"non-linear least squares\" function $\\mathbf{F}$ while $\\mathbf{J}_r$ is the Jacobian of the residual. \n",
    "\n",
    "where $\\mathbf{k}$ is $[a,m,s]^T$. \n",
    "\n",
    "- Some hyperparameters:\n",
    "    - Learning rate, $lr = 0.01$\n",
    "    - Maximum number of iterations, $num\\_iter=200$\n",
    "    - Tolerance, $tol = 1e-15$\n",
    "\n",
    "## Solution for 1 iteration\n",
    "\n",
    "To see how each step looks like, let us solve for 1 iteration and for simpler calculations, assume we have 3 observations, \n",
    "\n",
    "$$x_{obs}= \\left[ -25, 0, 25 \\right]^T, y_{obs} = \\left[  4.5783, 10, 4.5783 \\right]^T. $$\n",
    "\n",
    "With our initial estimate as $\\mathbf{k_0} = [a_0=10, \\quad m_0=13, \\quad s_0=19.12]^T$, the residual would be \n",
    "\n",
    "$$ r(a_0,m_0,s_0) = \\left[ a_0 \\exp \\left(\\frac{-(x_{obs}-m_0)^{2}}{2 s_0^{2}}\\right) - y_{obs}\\ \\right]$$\n",
    "\n",
    "Therefore, $r=[-3.19068466, -2.0637411 , 3.63398058]^T$.\n",
    "\n",
    "### Gradient Computation\n",
    "\n",
    "Gradient, $\\mathbf{J_F}$=\n",
    "\n",
    "$$\\mathbf{J_r}^{\\top} \\mathbf{r}(\\mathbf{k})$$\n",
    "\n",
    "We have calculated residual already [above](https://www.notion.so/c9e6f71b67a44bb8b366df2fccfc12d0), let us calculate the Jacobian $\\mathbf{J_r}$.\n",
    "\n",
    "$$\\mathbf{J}_r\n",
    "= \\left[ \\exp \\left(\\frac{-(x-m)^{2}}{2 s^{2}}\\right); \\frac{a (x-m)}{s^2} \\exp\\left(\\frac{-(x-m)^{2}}{2 s^{2}}\\right);  \\frac{a (x-m)^2}{s^3}\\exp \\left(\\frac{-(x-m)^{2}}{2 s^{2}}\\right)\\right]$$\n",
    "\n",
    "$$\\implies \\mathbf{J_r} = \\left[ \\begin{array}{rrr}0.1387649 & 0.79362589, & 0.82123142 \\\\-0.14424057 & -0.28221715  & 0.26956967 \\\\0.28667059 & 0.19188405, & 0.16918599\\end{array}\\right]$$\n",
    "\n",
    "So ,\n",
    "\n",
    "$$\\mathbf{J_F} = \\mathbf{J_r}^{\\top} \\mathbf{r}(\\mathbf{k})$$\n",
    "\n",
    "$$\\mathbf{r}(\\mathbf{k}) =  \\left[ \\begin{array}{r}-3.19068466 \\\\ -2.0637411 \\\\ 3.63398058 \\end{array} \\right]$$\n",
    "\n",
    "$$ \\begin{aligned} \\implies \\mathbf{J_F} = \\left[ \\begin{array}{r} 0.89667553 \\\\ -1.25248392 \\\\-2.56179392\\end{array} \\right] \\end{aligned}$$\n",
    "\n",
    "### Update step\n",
    "\n",
    "$$\n",
    "\\Delta \\mathbf{k} = - \\alpha \\mathbf{J_F} \\\\\n",
    "\\mathbf{k}^{t+1} = \\mathbf{k}^t + \\Delta \\mathbf{k}\n",
    "$$\n",
    "\n",
    "Here, $\\alpha$ our learning rate is 0.01.\n",
    "\n",
    "$$\n",
    "\\Delta \\mathbf{k} = - \\alpha\\times\\left[ \\begin{array}{r} \n",
    "0.89667553 \\\\ -1.25248392 \\\\-2.56179392\n",
    "\\end{array} \\right] = \\left[ \\begin{array}{r}\n",
    "-0.00896676 \\\\ 0.01252484 \\\\0.02561794\n",
    "\\end{array}\\right]\n",
    "$$\n",
    "\n",
    "$$\n",
    "\\mathbf{k}^{1} = \\mathbf{k}^{0} + \\Delta \\mathbf{k} \\\\ \\left[\\begin{array}{r} 10 \\\\ 13 \\\\ 19.12 \\end{array}\\right] + \\left[\\begin{array}{c} 9.99103324 \\\\ 13.01252484 \\\\ 19.14561794 \\end{array} \\right]\n",
    "$$\n",
    "\n",
    "With just one iteration with very few observations, we can see that we have gotten *slightly* more closer to our GT parameter  $a_{gt}=10; m_{gt} =0; s_{gt} =20$. Our initial estimate was $[a_0=10, \\quad m_0=13, \\quad s_0=19.12]$. However, the above might not be noticeable enough: Hence you need to code it for more iterations and convince yourself as follows:"
   ]
  },
  {
   "cell_type": "code",
   "execution_count": 2,
   "id": "e2e12aad",
   "metadata": {},
   "outputs": [],
   "source": [
    "from helpers.func import make_gaussian\n",
    "   \n",
    "def gradDescent(grad, x, parameters, residual, lr):\n",
    "    return np.matmul(-lr * grad(x, *parameters[0]), residual).transpose()\n",
    "\n",
    "def optimize(obj, grad, x, y, updateFunc=gradDescent, pltTitle='Gradient Descent', init=[10, 13, 19.12], lr=0.01, tolerance=1e-5, iterNum=200):\n",
    "    parameters = np.reshape(init, (1, -1))\n",
    "    lastIter = iterNum\n",
    "    lossHis = []\n",
    "    \n",
    "    for i in range(iterNum):\n",
    "        residual = np.reshape(obj(x, *parameters[0]), (-1, 1)) - np.reshape(y, (-1, 1))\n",
    "        lossHis.append(np.sum(abs(residual)))\n",
    "        if np.max(abs(residual)) < tolerance:\n",
    "            lastIter = i + 1\n",
    "            break\n",
    "            \n",
    "        parameters += updateFunc(grad, x, parameters, residual, lr)\n",
    "        \n",
    "    plt.figure()\n",
    "    plt.plot(range(lastIter), lossHis)\n",
    "    plt.title('Loss vs Number of Iterations for ' + pltTitle)\n",
    "    return parameters[0]"
   ]
  },
  {
   "cell_type": "code",
   "execution_count": 3,
   "id": "27e69566",
   "metadata": {},
   "outputs": [
    {
     "data": {
      "image/png": "[encoded data removed]",
      "text/plain": [
       "<Figure size 432x288 with 1 Axes>"
      ]
     },
     "metadata": {
      "needs_background": "light"
     },
     "output_type": "display_data"
    },
    {
     "data": {
      "image/png": "[encoded data removed]",
      "text/plain": [
       "<Figure size 432x288 with 1 Axes>"
      ]
     },
     "metadata": {
      "needs_background": "light"
     },
     "output_type": "display_data"
    }
   ],
   "source": [
    "def gaussian_grad(x, a, mean, std):\n",
    "    Ja = np.exp(-(x - mean) ** 2 / (2 * std ** 2)) / (math.sqrt(2 * math.pi) * std)\n",
    "    Jm = a * (x - mean) * np.exp(-(x - mean) ** 2 / (2 * std ** 2)) / (math.sqrt(2 * math.pi) * std ** 3)\n",
    "    Js1 = a * ((x - mean) ** 2) * np.exp(-(x - mean) ** 2 / (2 * std ** 2)) / (math.sqrt(2 * math.pi) * std ** 4)\n",
    "    Js2 = -a * np.exp(-(x - mean) ** 2 / (2 * std ** 2)) / (math.sqrt(2 * math.pi) * std ** 2)\n",
    "    Js = Js1 + Js2\n",
    "    return np.vstack((Ja, Jm, Js))\n",
    "    \n",
    "gt = [10, 0, 20]\n",
    "obsNum = 50\n",
    "x = np.linspace(-25, 25, obsNum)\n",
    "y = make_gaussian(x, *gt)\n",
    "preds = make_gaussian(x, *optimize(make_gaussian, gaussian_grad, x, y, lr=20))\n",
    "\n",
    "plt.figure()\n",
    "plt.plot(x, y, '-o', label='Ground Truth')\n",
    "plt.plot(x, preds, '-o', label='Predicted')\n",
    "plt.title('Predicted vs GT Gaussians by Gradient Descent')\n",
    "plt.legend()\n",
    "plt.show()"
   ]
  },
  {
   "cell_type": "markdown",
   "id": "79122097",
   "metadata": {},
   "source": [
    "## 1.2: Another Non-Linear function\n",
    "Now that you've got the hang of computing the jacobian matrix for a non-linear function via the aid of an example, try to compute the jacobian of a secondary gaussian function by carrying out steps similar to what has been shown above. The function is plotted below:\n",
    "<img src='./helpers/non_linear.png' alt=drawing width=500 height=600>\n",
    "Using the computed jacobian, optimise for the four parameters using gradient descent, where the parameters to be estimated are: \n",
    "\n",
    "$p_1$ = 2,  $p_2$ = 8,  $p_3$ = 4,  $p_4$ = 8. \n",
    "\n",
    "Do this for $x_{obs} = np.linspace(-20,30, num\\_obs)$,\n",
    "where $num\\_obs$ is 50.\n",
    "\n"
   ]
  },
  {
   "cell_type": "code",
   "execution_count": 21,
   "id": "adf5a047",
   "metadata": {},
   "outputs": [
    {
     "data": {
      "image/png": "[encoded data removed]",
      "text/plain": [
       "<Figure size 432x288 with 1 Axes>"
      ]
     },
     "metadata": {
      "needs_background": "light"
     },
     "output_type": "display_data"
    },
    {
     "data": {
      "image/png": "[encoded data removed]",
      "text/plain": [
       "<Figure size 432x288 with 1 Axes>"
      ]
     },
     "metadata": {
      "needs_background": "light"
     },
     "output_type": "display_data"
    }
   ],
   "source": [
    "from helpers.func import make_non_linear\n",
    "\n",
    "def non_linear_grad(x, p1, p2, p3, p4):\n",
    "    Jp1 = np.exp(-x / p2)\n",
    "    Jp2 = p1 * x * np.exp(-x / p2) / (p2 ** 2)\n",
    "    Jp3 = np.sin(x / p4)\n",
    "    Jp4 = -p3 * x * np.cos(x / p4) / (p4 ** 2)\n",
    "    return np.vstack((Jp1, Jp2, Jp3, Jp4))\n",
    "    \n",
    "gt2 = [2, 8, 4, 8]\n",
    "obsNum2 = 50\n",
    "x2 = np.linspace(-20, 30, obsNum2)\n",
    "y2 = make_non_linear(x2, *gt2)\n",
    "init = np.random.uniform(0, 20, (1, 4))\n",
    "preds2 = make_non_linear(x2, *optimize(make_non_linear, non_linear_grad, x2, y2, init=init))\n",
    "\n",
    "plt.figure()\n",
    "plt.plot(x2, y2, '-o', label='Ground Truth')\n",
    "plt.plot(x2, preds2, '-o', label='Predicted')\n",
    "plt.title('Predicted vs GT Gaussians by Gradient Descent')\n",
    "plt.legend()\n",
    "plt.show()"
   ]
  },
  {
   "cell_type": "markdown",
   "id": "33388fcc",
   "metadata": {},
   "source": [
    "## 1.3: Different Optimizers\n",
    "\n",
    "Replace gradient descent with Gauss-Newton and Levenberg Marquardt algorithms and repeat question 1.1. \n",
    "\n",
    "To quickly recap, Gauss-Newton and Levenberg Marquardt are alternate update rules to the standard gradient descent. Gauss Newton updates work as:\n",
    "\n",
    "$$\\delta x = -(J^TJ)^{-1}J^Tf(x)$$\n",
    "\n",
    "Levenberg Marquardt lies somewhere between Gauss Newton and Gradient Descent algorithms by blending the two formulations. As a result, when at a steep cliff, LM takes small steps to avoid overshooting, and when at a gentle slope, LM takes bigger steps:\n",
    "\n",
    "\n",
    "$$\\delta x = -(J^TJ + \\lambda I)^{-1}J^Tf(x)$$"
   ]
  },
  {
   "cell_type": "markdown",
   "id": "f1e7d01c",
   "metadata": {},
   "source": [
    "**Questions**\n",
    "   * 1. How does the choice of initial estimate and learning rate affect convergence? Observations and analysis from repeated runs with modified hyperparameters will suffice.\n",
    "   * 2. Do you notice any difference between the three optimizers? Why do you think that is? (If you are unable to see a clear trend, what would you expect in general based on what you know about them)"
   ]
  },
  {
   "cell_type": "code",
   "execution_count": 5,
   "id": "d8276fc0",
   "metadata": {},
   "outputs": [],
   "source": [
    "def gaussNewton(grad, x, parameters, residual, lr):\n",
    "    J = grad(x, *parameters[0])\n",
    "    a = np.linalg.inv(np.matmul(J, J.transpose()))\n",
    "    return np.matmul(a, np.matmul(-J, residual)).transpose()\n",
    "\n",
    "def LM(grad, x, parameters, residual, lr):\n",
    "    J = grad(x, *parameters[0])\n",
    "    a = np.matmul(J, J.transpose()) + lr * np.identity(np.shape(J)[0])\n",
    "    return np.matmul(np.linalg.inv(a), np.matmul(-J, residual)).transpose()"
   ]
  },
  {
   "cell_type": "code",
   "execution_count": 6,
   "id": "d06e2c28",
   "metadata": {},
   "outputs": [
    {
     "data": {
      "image/png": "[encoded data removed]",
      "text/plain": [
       "<Figure size 432x288 with 1 Axes>"
      ]
     },
     "metadata": {
      "needs_background": "light"
     },
     "output_type": "display_data"
    },
    {
     "data": {
      "image/png": "[encoded data removed]",
      "text/plain": [
       "<Figure size 432x288 with 1 Axes>"
      ]
     },
     "metadata": {
      "needs_background": "light"
     },
     "output_type": "display_data"
    },
    {
     "data": {
      "image/png": "[encoded data removed]",
      "text/plain": [
       "<Figure size 432x288 with 1 Axes>"
      ]
     },
     "metadata": {
      "needs_background": "light"
     },
     "output_type": "display_data"
    },
    {
     "data": {
      "image/png": "[encoded data removed]",
      "text/plain": [
       "<Figure size 432x288 with 1 Axes>"
      ]
     },
     "metadata": {
      "needs_background": "light"
     },
     "output_type": "display_data"
    }
   ],
   "source": [
    "predsGD = make_gaussian(x, *optimize(make_gaussian, gaussian_grad, x, y))\n",
    "predsGN = make_gaussian(x, *optimize(make_gaussian, gaussian_grad, x, y, gaussNewton, 'Gauss-Newton'))\n",
    "predsLM = make_gaussian(x, *optimize(make_gaussian, gaussian_grad, x, y, LM, 'LM'))\n",
    "\n",
    "plt.figure()\n",
    "plt.plot(x, y, '-o', label='Ground Truth')\n",
    "plt.plot(x, predsGD, '-o', label='Gradient Descent')\n",
    "plt.plot(x, predsGN, '-o', label='Gauss-Newton')\n",
    "plt.plot(x, predsLM, '-o', label='LM')\n",
    "plt.title('Predicted vs GT Gaussians by Gradient Descent')\n",
    "plt.legend()\n",
    "plt.show()"
   ]
  },
  {
   "cell_type": "markdown",
   "id": "1f65804c",
   "metadata": {},
   "source": [
    "1. The larger the learning rate is, the faster the algorithm will converge as the steps taken will be larger. However, if the learning rate is too large then it is also possible that the algorithm never converges or converges even slower than a smaller learning rate as it will oscillate about the minima.\n",
    "The better/closer the initial estimate is to the ground truth, the faster the algorithm will converge as fewer steps will be required.\n",
    "2. It is observed that the Gauss-Newton variation requires the least number of iterations, followed by LM, followed by gradient descent. This is because the steps are largest for Gauss-Newton without overshooting, followed by LM, followed by gradient descent."
   ]
  },
  {
   "cell_type": "markdown",
   "id": "d740c2c4",
   "metadata": {},
   "source": [
    "# 2. Iterative Closest Point\n",
    "\n",
    "In this subsection, we will code the Iterative Closest Point algorithm to find the alignment between two point clouds without known correspondences. The point cloud that you will be using is the same as the one that you used in Assignment 1.\n",
    "\n",
    "## 2.1: Procrustes alignment\n",
    "\n",
    "1. Write a function that takes two point clouds as input wherein the corresponding points between the two point clouds are located at the same index and returns the transformation matrix between them.\n",
    "2. Use the bunny point cloud and perform the procrustes alignment between the two bunnies. Compute the absolute alignment error after aligning the two bunnies.\n",
    "3. Make sure your code is modular as we will use this function in the next sub-part.\n",
    "4. Prove mathematically why the Procrustes alignment gives the best aligning transform between point clouds with known correspondences.\n"
   ]
  },
  {
   "cell_type": "markdown",
   "id": "8e1779a0",
   "metadata": {},
   "source": [
    "### 2.1.1"
   ]
  },
  {
   "cell_type": "code",
   "execution_count": 7,
   "id": "df1d6099",
   "metadata": {},
   "outputs": [],
   "source": [
    "def findTransformationMatrix(R, t):\n",
    "    t = t.reshape((-1, 1))\n",
    "    return np.vstack((np.hstack((R, t)), np.array([0, 0, 0, 1])))\n",
    "\n",
    "def findRotationAndTranslation(T):\n",
    "    dim = T.shape[0] - 1\n",
    "    R = T[:dim, :dim]\n",
    "    t = T[:dim, dim]\n",
    "    return R, t.reshape((-1, 1))"
   ]
  },
  {
   "cell_type": "code",
   "execution_count": 8,
   "id": "b9b9895c",
   "metadata": {},
   "outputs": [],
   "source": [
    "# orthogonal procrustes (transforms pc2 to pc1)\n",
    "# pc1 and pc2 are of dimension 3 x n\n",
    "def orthogonalProcrustes(pc1, pc2):\n",
    "    # dimension of each point, number of points\n",
    "    dim, n = pc1.shape\n",
    "\n",
    "    # find centroids\n",
    "    mu1 = np.mean(pc1, axis=1, keepdims=True)\n",
    "    mu2 = np.mean(pc2, axis=1, keepdims=True)\n",
    "    \n",
    "    # center point clouds\n",
    "    centered_pc1 = pc1 - mu1\n",
    "    centered_pc2 = pc2 - mu2\n",
    "    \n",
    "    # solve using SVD\n",
    "    W = centered_pc1 @ centered_pc2.T\n",
    "    U, S, Vt = np.linalg.svd(W)\n",
    "    \n",
    "    # find R and t\n",
    "    R = U @ Vt\n",
    "    t = mu1 - R @ mu2\n",
    "    \n",
    "    # get transformation matrix from R and t\n",
    "    T = findTransformationMatrix(R, t)\n",
    "    \n",
    "    # return matrices\n",
    "    return T, R, t"
   ]
  },
  {
   "cell_type": "markdown",
   "id": "e0f23386",
   "metadata": {},
   "source": [
    "### 2.1.2"
   ]
  },
  {
   "cell_type": "code",
   "execution_count": 9,
   "id": "18a48b47",
   "metadata": {},
   "outputs": [],
   "source": [
    "# load bunny point cloud\n",
    "pcd = o3d.io.read_point_cloud(\"data/bunny.ply\")"
   ]
  },
  {
   "cell_type": "code",
   "execution_count": 10,
   "id": "87f8974b",
   "metadata": {},
   "outputs": [],
   "source": [
    "# visualize point cloud\n",
    "# pc is of dimension n x 3\n",
    "def visualizePointCloud(pc):\n",
    "    pcd = o3d.geometry.PointCloud()\n",
    "    pcd.points = o3d.utility.Vector3dVector(pc)\n",
    "    o3d.visualization.draw_geometries([pcd])"
   ]
  },
  {
   "cell_type": "code",
   "execution_count": 11,
   "id": "13018553",
   "metadata": {},
   "outputs": [],
   "source": [
    "# finds distance between pc1 and pc2\n",
    "# pc1 and pc2 are of dimension 3 x n\n",
    "def findError(pc1, pc2):\n",
    "    return np.mean(np.linalg.norm(pc1 - pc2, axis=0))"
   ]
  },
  {
   "cell_type": "code",
   "execution_count": 12,
   "id": "3514097b",
   "metadata": {},
   "outputs": [
    {
     "name": "stdout",
     "output_type": "stream",
     "text": [
      "Actual Transform Matrix: \n",
      " [[ 1  0  0  1]\n",
      " [ 0  0 -1  0]\n",
      " [ 0  1  0  0]\n",
      " [ 0  0  0  1]]\n",
      "Calculated Transform Matrix: \n",
      " [[ 1.  0.  0.  1.]\n",
      " [ 0. -0. -1. -0.]\n",
      " [-0.  1. -0. -0.]\n",
      " [ 0.  0.  0.  1.]]\n",
      "Error =  2.277551476016841e-16\n"
     ]
    }
   ],
   "source": [
    "# translate and rotate pointcloud\n",
    "orig_R = np.array([[1, 0, 0], [0, 0, -1], [0, 1, 0]])\n",
    "orig_t = np.array([[1, 0, 0]]).T\n",
    "orig_T = findTransformationMatrix(orig_R, orig_t)\n",
    "\n",
    "pc1 = np.asarray(pcd.points).T\n",
    "pc2 = orig_R @ pc1 + orig_t\n",
    "\n",
    "# apply procrustes to find transformation\n",
    "T, R, t = orthogonalProcrustes(pc2, pc1)\n",
    "\n",
    "with np.printoptions(precision=3, suppress=True):\n",
    "    print(\"Actual Transform Matrix: \\n\", orig_T)\n",
    "    print(\"Calculated Transform Matrix: \\n\", T)\n",
    "\n",
    "# find absolute error\n",
    "error = findError(pc2, R @ pc1 + t)\n",
    "print(\"Error = \", error)"
   ]
  },
  {
   "cell_type": "markdown",
   "id": "be216f6a",
   "metadata": {},
   "source": [
    "### 2.1.4"
   ]
  },
  {
   "cell_type": "markdown",
   "id": "5dc4722e",
   "metadata": {},
   "source": [
    "## 2.2: ICP alignment\n",
    "\n",
    "1. Write a function that takes two point clouds as input without known correspondences and perform the iterative closest point algorithm.\n",
    "2. Perform the ICP alignment between the two bunnies and plot their individual coordinate frames as done in class.\n",
    "3. Does ICP always give the correct alignment? Why or Why not?\n",
    "4. What are other variants of ICP and why are they helpful (you can look at point to plane ICP)?"
   ]
  },
  {
   "cell_type": "markdown",
   "id": "b930395e",
   "metadata": {},
   "source": [
    "### 2.2.1"
   ]
  },
  {
   "cell_type": "code",
   "execution_count": 13,
   "id": "27c30899",
   "metadata": {},
   "outputs": [],
   "source": [
    "# find nearest neighbours of pc1 in pc2\n",
    "# pc1 and pc2 are of dimension 3 x n\n",
    "def findNearestNeighbours(pc1, pc2):\n",
    "    pc2_nearest = []\n",
    "    \n",
    "    for point1 in pc1:\n",
    "        min_dist = 1e9\n",
    "        for point2 in pc2:\n",
    "            dist = np.linalg.norm(point1 - point2)\n",
    "            if dist < min_dist:\n",
    "                min_dist = dist\n",
    "                closest_point = point2\n",
    "        \n",
    "        pc2_nearest.append(closest_point)\n",
    "        \n",
    "    return np.array(pc2_nearest)"
   ]
  },
  {
   "cell_type": "code",
   "execution_count": 14,
   "id": "502ec532",
   "metadata": {},
   "outputs": [],
   "source": [
    "# visualize point clouds\n",
    "# pc1 and pc2 are of dimension n x 3\n",
    "def visualizePointClouds(pc1, pc2, axes=True):\n",
    "    pcd1 = o3d.geometry.PointCloud()\n",
    "    pcd1.points = o3d.utility.Vector3dVector(pc1)\n",
    "    pcd1.paint_uniform_color([1, 0, 0])\n",
    "    frame1 = o3d.geometry.TriangleMesh.create_coordinate_frame(size=0.3, origin=pcd1.get_center())\n",
    "    \n",
    "    pcd2 = o3d.geometry.PointCloud()\n",
    "    pcd2.points = o3d.utility.Vector3dVector(pc2)\n",
    "    pcd2.paint_uniform_color([0, 0, 1])\n",
    "    frame2 = o3d.geometry.TriangleMesh.create_coordinate_frame(size=0.3, origin=pcd2.get_center())\n",
    "    \n",
    "    if axes:\n",
    "        o3d.visualization.draw_geometries([pcd1, pcd2, frame1, frame2])\n",
    "    else:\n",
    "        o3d.visualization.draw_geometries([pcd1, pcd2])"
   ]
  },
  {
   "cell_type": "code",
   "execution_count": 15,
   "id": "a4812b56",
   "metadata": {},
   "outputs": [],
   "source": [
    "# ICP (transforms pc2 to pc1)\n",
    "# pc1 and pc2 are of dimension 3 x n\n",
    "def iterativeClosestPoint(pc1, pc2, visualize=False):\n",
    "    # dimension of each point, number of points\n",
    "    dim, n = pc1.shape\n",
    "    \n",
    "    # initialise distance and transformation matrix\n",
    "    prev_error = findError(pc1, pc2)\n",
    "    transform = np.eye(dim + 1)\n",
    "    \n",
    "    iterations = 100\n",
    "    tolerance = 1e-5\n",
    "    \n",
    "    for i in range(iterations):\n",
    "        # find nearest neighbours\n",
    "        pc2_nearest = findNearestNeighbours(pc1, pc2)\n",
    "        \n",
    "        # perform procrustes taking nearest neighbours as correspondences\n",
    "        T, R, t = orthogonalProcrustes(pc1, pc2_nearest)\n",
    "        \n",
    "        # align pc2 towards pc1\n",
    "        transform = T @ transform\n",
    "        pc2 = R @ pc2 + t\n",
    "        \n",
    "        # print error\n",
    "        error = findError(pc1, pc2)\n",
    "        print(f\"Error in iteration {i}: \", error)\n",
    "            \n",
    "        # if difference in errors in consecutive iterations is low enough, break\n",
    "        if np.abs(prev_error - error) < tolerance:\n",
    "            break\n",
    "        prev_error = error\n",
    "        \n",
    "        # visualize point clouds\n",
    "        if visualize:\n",
    "            visualizePointClouds(pc1.T, pc2.T)\n",
    "\n",
    "    return transform"
   ]
  },
  {
   "cell_type": "markdown",
   "id": "1de9f999",
   "metadata": {},
   "source": [
    "### 2.2.2"
   ]
  },
  {
   "cell_type": "code",
   "execution_count": 16,
   "id": "99f4459b",
   "metadata": {
    "scrolled": true
   },
   "outputs": [
    {
     "name": "stdout",
     "output_type": "stream",
     "text": [
      "Error in iteration 0:  0.20282211067083888\n",
      "Error in iteration 1:  0.06404605762025642\n",
      "Error in iteration 2:  2.609090358325952e-16\n",
      "Error in iteration 3:  2.9636222617616946e-16\n",
      "Actual Transform Matrix: \n",
      " [[ 1  0  0  1]\n",
      " [ 0  0 -1  0]\n",
      " [ 0  1  0  0]\n",
      " [ 0  0  0  1]]\n",
      "Calculated Transform Matrix: \n",
      " [[ 1. -0.  0.  1.]\n",
      " [ 0.  0. -1.  0.]\n",
      " [ 0.  1.  0. -0.]\n",
      " [ 0.  0.  0.  1.]]\n"
     ]
    }
   ],
   "source": [
    "# translate and rotate pointcloud\n",
    "orig_R = np.array([[1, 0, 0], [0, 0, -1], [0, 1, 0]])\n",
    "orig_t = np.array([[1, 0, 0]]).T\n",
    "orig_T = findTransformationMatrix(orig_R, orig_t)\n",
    "\n",
    "pc1 = np.asarray(pcd.points).T\n",
    "pc2 = orig_R @ pc1 + orig_t\n",
    "\n",
    "# apply ICP to transform pc1 into pc2\n",
    "T = iterativeClosestPoint(pc2, pc1, visualize=True)\n",
    "R, t = findRotationAndTranslation(T)\n",
    "\n",
    "with np.printoptions(precision=3, suppress=True):\n",
    "    print(\"Actual Transform Matrix: \\n\", orig_T)\n",
    "    print(\"Calculated Transform Matrix: \\n\", T)\n",
    "    \n",
    "# visualize final point clouds\n",
    "visualizePointClouds(pc2.T, (R @ pc1 + t).T)"
   ]
  },
  {
   "cell_type": "markdown",
   "id": "ea48a9aa",
   "metadata": {},
   "source": [
    "### 2.2.3\n",
    "\n",
    "No, ICP does not necessarily always give the correct alignment. This can happen due to several reasons. When the correspondences are known, the mismatch can arise primarily due to error/noise in the measured points/point clouds. When the correspondences are unknown, the aligment may be off due to matching of incorrect pairs of points/neighbours, specially if several points are close together or the two point clouds are separated by a large transformation."
   ]
  },
  {
   "cell_type": "markdown",
   "id": "794916df",
   "metadata": {},
   "source": [
    "### 2.2.4\n",
    "\n",
    "ICP has several variants based on the methods used for 1 or more of the below stages of the algorithm:\n",
    "1. Selecting source points from the 2 meshes\n",
    "\n",
    "The possible variations here include using all points(robust), uniform sub-sampling, random sampling, normal sampling, etc. Of these, normal sampling seems to be the best as it is simple, low-cost, robust and generally converges faster.\n",
    "\n",
    "2. Matching of points between the 2 meshes (finding correspondences)\n",
    "\n",
    "The variations include closest point(most robust), closest compatible point, normal shooting(best for some specific situations), normal shooting to a compatible point, projection(fastest), projection followed by search, etc. \n",
    "\n",
    "3. Weighting of correspondences\n",
    "\n",
    "The variants include constant weight, lower weights for higher distance pairs, weights based on normal compatibility, weights based on uncertainty, etc. Generally, normal compatability and uncertainty based variants converge slightly faster.\n",
    "\n",
    "4. Rejecting certain outlier point pairs\n",
    "\n",
    "The variations include rejecting pairs apart by more than a threshold, worst x% pairs, pairs apart by more than some multiple of the standard deviation of distances, mesh boundary pairs, etc. Rejection does not give much of a boost in general.\n",
    "\n",
    "5. Assigning an error metric for each iteration\n",
    "\n",
    "The variations include point-to-point error, point-to-plane error, etc. The point-to-plane variant is the best as it is faster and more robust, i.e, it is more likely to converge to the minima.\n",
    "\n",
    "6. Minimizing the error metric\n",
    "\n",
    "The variations include non-linear method, linearizing and solving, etc."
   ]
  }
 ],
 "metadata": {
  "kernelspec": {
   "display_name": "Python 3",
   "language": "python",
   "name": "python3"
  },
  "language_info": {
   "codemirror_mode": {
    "name": "ipython",
    "version": 3
   },
   "file_extension": ".py",
   "mimetype": "text/x-python",
   "name": "python",
   "nbconvert_exporter": "python",
   "pygments_lexer": "ipython3",
   "version": "3.8.8"
  }
 },
 "nbformat": 4,
 "nbformat_minor": 5
}
